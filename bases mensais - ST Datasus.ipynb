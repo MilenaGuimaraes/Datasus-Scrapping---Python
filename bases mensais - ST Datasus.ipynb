{
 "cells": [
  {
   "cell_type": "markdown",
   "metadata": {},
   "source": [
    "# Baixa arquivos da conexão FTP do datasus para a pasta desejada do computador"
   ]
  },
  {
   "cell_type": "code",
   "execution_count": 3,
   "metadata": {},
   "outputs": [
    {
     "name": "stdout",
     "output_type": "stream",
     "text": [
      "Digite o ano dos dados do ST datasus que deseja baixar com dois dígitos. Ex: Para o ano de 2020, digite 20\n",
      "20\n",
      "Digite o mes dos dados do ST datasus que deseja baixar com dois dígitos. Ex: Para o mes de Agosto, digite 08\n",
      "06\n",
      "Todos os arquivos desejados foram baixados./n A conexão ftp foi fechada\n"
     ]
    }
   ],
   "source": [
    "import os.path\n",
    "from ftplib import FTP\n",
    "\n",
    "\n",
    "ftp = FTP('ftp.datasus.gov.br') # conecta no host\n",
    "ftp.login() # login\n",
    "\n",
    "     \n",
    "ftp.cwd('/dissemin/publicos/CNES/200508_/Dados/ST/')# abre diretório desejado\n",
    "\n",
    "print('Digite o ano dos dados do ST datasus que deseja baixar com dois dígitos. Ex: Para o ano de 2020, digite 20')\n",
    "ano = str(input())\n",
    "\n",
    "print('Digite o mes dos dados do ST datasus que deseja baixar com dois dígitos. Ex: Para o mes de Agosto, digite 08')\n",
    "mes = str(input())\n",
    "\n",
    "\n",
    "filenames = ftp.nlst('*'+ano+mes+'.DBF') # cria lista de arquivos desejados\n",
    "\n",
    "savedir = 'C:/Users/Milena/Documents/Estudos/3M/dados' # cria variável de caminho para salvar os arquivos copiados do ftp\n",
    "os.chdir(savedir)\n",
    "\n",
    "# Faz loop sobre os a lista de arquivos e os baixa para a pasta desejada\n",
    "for f in filenames:\n",
    "    file = open(f, \"wb\")\n",
    "    ftp.retrbinary('RETR '+ f, file.write)\n",
    "    file.close() \n",
    "    print('Arquivo {} baixado para pasta'.format(f))\n",
    "    \n",
    "ftp.close() # fecha conexão    \n",
    "print('Todos os arquivos desejados foram baixados./n A conexão ftp foi fechada') "
   ]
  },
  {
   "cell_type": "markdown",
   "metadata": {},
   "source": [
    "# Importa arquivos .DBF da pasta do computador, transforma em dataframe e empilha em um único dataframe"
   ]
  },
  {
   "cell_type": "code",
   "execution_count": 4,
   "metadata": {},
   "outputs": [],
   "source": [
    "import os\n",
    "import glob \n",
    "from pandas import DataFrame\n",
    "from dbfread import DBF\n",
    "\n",
    "\n",
    "os.chdir('C:/Users/Milena/Documents/Estudos/3M/dados')\n",
    "list_of_files = glob.glob('*.DBF')\n",
    "\n",
    "for idx, base in enumerate(list_of_files):\n",
    "    if idx==0:\n",
    "        dbf = DBF(base)\n",
    "        frame = DataFrame(iter(dbf))\n",
    "    else:\n",
    "        base = DBF(base)  \n",
    "        frame2 = DataFrame(iter(base))\n",
    "        dbf = frame.append(frame2)\n",
    "        \n",
    "del(base)\n",
    "del(idx)\n",
    "del(list_of_files)\n",
    "\n",
    "consolidado_csv = dbf.to_csv(mes+'_'+ano+'_'+'st_datasus.csv', sep= ';', encoding='latin1',index=False)     \n",
    "        "
   ]
  },
  {
   "cell_type": "code",
   "execution_count": 16,
   "metadata": {},
   "outputs": [
    {
     "data": {
      "text/plain": [
       "(1115, 201)"
      ]
     },
     "execution_count": 16,
     "metadata": {},
     "output_type": "execute_result"
    }
   ],
   "source": [
    "dbf.shape"
   ]
  },
  {
   "cell_type": "code",
   "execution_count": 28,
   "metadata": {},
   "outputs": [
    {
     "data": {
      "text/plain": [
       "Index(['CNES', 'CODUFMUN', 'COD_CEP', 'CPF_CNPJ', 'PF_PJ', 'NIV_DEP',\n",
       "       'CNPJ_MAN', 'COD_IR', 'REGSAUDE', 'MICR_REG',\n",
       "       ...\n",
       "       'AP07CV01', 'AP07CV02', 'AP07CV05', 'AP07CV06', 'AP07CV03', 'AP07CV04',\n",
       "       'ATEND_PR', 'DT_ATUAL', 'COMPETEN', 'NAT_JUR'],\n",
       "      dtype='object', length=201)"
      ]
     },
     "execution_count": 28,
     "metadata": {},
     "output_type": "execute_result"
    }
   ],
   "source": [
    "dbf.columns"
   ]
  },
  {
   "cell_type": "markdown",
   "metadata": {},
   "source": [
    "# Inserção de dados consolidados em banco de dados Oracle\n",
    "##### Exemplo de estrutura de inserção dos dados em banco de dados Oracle"
   ]
  },
  {
   "cell_type": "code",
   "execution_count": null,
   "metadata": {},
   "outputs": [],
   "source": [
    "import pyodbc\n",
    "import sqlalchemy\n",
    "import time\n",
    "import cx_Oracle as cx\n",
    "\n",
    "oracle_connection_string = (\n",
    "    'oracle+cx_oracle://{username}:{password}@') +\n",
    "    cx.makedsn('{hostname}', {'port'}, service_name='{service_name}')\n",
    "\n",
    ")\n",
    "    \n",
    "engine = a.create_engine(\n",
    "    oracle_connection_string.format(\n",
    "    username ='Insira o user name',\n",
    "    password='Insira a senha',\n",
    "    hostname='Insira o host name',\n",
    "    port='Insira a porta',\n",
    "    service_name='Insira a instancia',\n",
    "    encoding='Insira o encoding',\n",
    "    nencoding='Insira o nencoding'    \n",
    "    )\n",
    ")    \n",
    "inicioinsert = time.time()\n",
    "dbf.to_sql(\n",
    "    name = 'tbl_st_datasus',\n",
    "    con = engine,\n",
    "    index = False,\n",
    "    if_exists ='append'\n",
    ")\n",
    "\n",
    "fiminsert = time.time()\n",
    "\n",
    "# mostra tempo que o insert no banco de dados levou\n",
    "print('Insert na base de dados executado em:')\n",
    "print(round(fiminsert-inicioinsert,2)) "
   ]
  },
  {
   "cell_type": "code",
   "execution_count": null,
   "metadata": {},
   "outputs": [],
   "source": []
  },
  {
   "cell_type": "code",
   "execution_count": null,
   "metadata": {},
   "outputs": [],
   "source": []
  }
 ],
 "metadata": {
  "kernelspec": {
   "display_name": "Python 3",
   "language": "python",
   "name": "python3"
  },
  "language_info": {
   "codemirror_mode": {
    "name": "ipython",
    "version": 3
   },
   "file_extension": ".py",
   "mimetype": "text/x-python",
   "name": "python",
   "nbconvert_exporter": "python",
   "pygments_lexer": "ipython3",
   "version": "3.8.2"
  }
 },
 "nbformat": 4,
 "nbformat_minor": 4
}
